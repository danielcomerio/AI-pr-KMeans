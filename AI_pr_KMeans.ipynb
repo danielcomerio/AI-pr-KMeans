{
  "nbformat": 4,
  "nbformat_minor": 0,
  "metadata": {
    "colab": {
      "name": "AI-pr-KMeans.ipynb",
      "provenance": [],
      "collapsed_sections": []
    },
    "kernelspec": {
      "name": "python3",
      "display_name": "Python 3"
    },
    "language_info": {
      "name": "python"
    }
  },
  "cells": [
    {
      "cell_type": "code",
      "execution_count": 117,
      "metadata": {
        "id": "htdKowlKO5fm"
      },
      "outputs": [],
      "source": [
        "import matplotlib.pyplot as plt\n",
        "\n",
        "from sklearn.datasets import load_iris\n",
        "from sklearn.cluster import KMeans"
      ]
    },
    {
      "cell_type": "code",
      "source": [
        "X, y = load_iris(return_X_y=True)\n",
        "\n",
        "X = X[:, 2:] # Using only the last 2 features of the Iris dataset\n",
        "# print(X.shape)"
      ],
      "metadata": {
        "id": "jRpSrprcQxyw"
      },
      "execution_count": 118,
      "outputs": []
    },
    {
      "cell_type": "code",
      "source": [
        "model = KMeans(n_clusters=3,\n",
        "               init=\"k-means++\",\n",
        "               max_iter=1000,\n",
        "               n_init=10,\n",
        "               random_state=0)\n",
        "y_pred = model.fit_predict(X);"
      ],
      "metadata": {
        "id": "Yg_8a8fRQx20"
      },
      "execution_count": 119,
      "outputs": []
    },
    {
      "cell_type": "code",
      "source": [
        "# Visualising the clursters\n",
        "plt.scatter(X[y_pred == 0, 0], X[y_pred == 0, 1], s = 100, c = '#abc', label = \"Iris-setosa\")\n",
        "plt.scatter(X[y_pred == 1, 0], X[y_pred == 1, 1], s = 100, c = \"cyan\", label = \"Iris-versicolour\")\n",
        "plt.scatter(X[y_pred == 2, 0], X[y_pred == 2, 1], s = 100, c = \"magenta\", label = \"Iris-virginica\")\n",
        "\n",
        "# Plotting the centroids of the clursters\n",
        "plt.scatter(model.cluster_centers_[:, 0], model.cluster_centers_[:, 1], s = 100, c = \"black\", label = \"Centroids\")\n",
        "plt.legend();"
      ],
      "metadata": {
        "colab": {
          "base_uri": "https://localhost:8080/",
          "height": 265
        },
        "id": "kYlujn_aQx5h",
        "outputId": "ef288a77-1e64-4e88-fde6-b4d13e0a5e54"
      },
      "execution_count": 120,
      "outputs": [
        {
          "output_type": "display_data",
          "data": {
            "text/plain": [
              "<Figure size 432x288 with 1 Axes>"
            ],
            "image/png": "[encoded data removed]"
          },
          "metadata": {
            "needs_background": "light"
          }
        }
      ]
    }
  ]
}